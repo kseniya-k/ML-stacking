{
 "cells": [
  {
   "cell_type": "markdown",
   "metadata": {},
   "source": [
    "### Стэкинг: вариант с усреднением предсказаний"
   ]
  },
  {
   "cell_type": "code",
   "execution_count": 59,
   "metadata": {
    "collapsed": true
   },
   "outputs": [],
   "source": [
    "import numpy as np\n",
    "\n",
    "from sklearn.model_selection import KFold\n",
    "from sklearn.datasets import load_digits\n",
    "from sklearn.metrics import log_loss\n",
    "from sklearn.metrics import accuracy_score\n",
    "\n",
    "import sklearn.dummy\n",
    "import sklearn.svm"
   ]
  },
  {
   "cell_type": "markdown",
   "metadata": {},
   "source": [
    "Тестовый набор данных - изображения цифр размера 8x8. Например:"
   ]
  },
  {
   "cell_type": "code",
   "execution_count": 76,
   "metadata": {},
   "outputs": [
    {
     "data": {
      "text/plain": [
       "<matplotlib.figure.Figure at 0x1a14f5b2d0>"
      ]
     },
     "metadata": {},
     "output_type": "display_data"
    },
    {
     "data": {
      "image/png": "[encoded data removed]",
      "text/plain": [
       "<matplotlib.figure.Figure at 0x1a14f5b290>"
      ]
     },
     "metadata": {},
     "output_type": "display_data"
    }
   ],
   "source": [
    "import matplotlib.pyplot as plt \n",
    "digits = load_digits()\n",
    "plt.gray() \n",
    "plt.matshow(digits.images[10]) \n",
    "plt.show() "
   ]
  },
  {
   "cell_type": "markdown",
   "metadata": {},
   "source": [
    "Зададим k - количество частей, на которые мы будем разбивать данные."
   ]
  },
  {
   "cell_type": "code",
   "execution_count": 77,
   "metadata": {
    "collapsed": true
   },
   "outputs": [],
   "source": [
    "k = 6"
   ]
  },
  {
   "cell_type": "markdown",
   "metadata": {},
   "source": [
    "Инициализируем данные и классификатор:"
   ]
  },
  {
   "cell_type": "code",
   "execution_count": 90,
   "metadata": {},
   "outputs": [],
   "source": [
    "X_all, y_all = load_digits(return_X_y = True)\n",
    "\n",
    "classifier = sklearn.svm.SVC(gamma=0.001)"
   ]
  },
  {
   "cell_type": "markdown",
   "metadata": {},
   "source": [
    "Для сравнения обучим классификатор на половине данных и используем вторую половину в качестве тестовой. Посчитаем точность полученных предсказаний:"
   ]
  },
  {
   "cell_type": "code",
   "execution_count": 80,
   "metadata": {},
   "outputs": [
    {
     "name": "stdout",
     "output_type": "stream",
     "text": [
      "0.968854282536\n"
     ]
    }
   ],
   "source": [
    "l = len(X_all)\n",
    "classifier.fit(X_all[:l/2], y_all[:l/2])\n",
    "pred = classifier.predict(X_all[l/2:])\n",
    "\n",
    "scores = accuracy_score(y_all[l/2:], pred)\n",
    "print scores"
   ]
  },
  {
   "cell_type": "code",
   "execution_count": 85,
   "metadata": {},
   "outputs": [],
   "source": [
    "method='predict'\n",
    "method_to_call = getattr(classifier, method)\n",
    "p = method_to_call(X_all)"
   ]
  },
  {
   "cell_type": "markdown",
   "metadata": {},
   "source": [
    "Реализуем стэкинг:"
   ]
  },
  {
   "cell_type": "code",
   "execution_count": 88,
   "metadata": {
    "collapsed": true
   },
   "outputs": [],
   "source": [
    "def stack_pred(estimator, X, y, Xt, k=3, method='predict'):\n",
    "    method_to_call = getattr(estimator, method)\n",
    "    kf = KFold(n_splits = k, shuffle = True, random_state = 0)\n",
    "    \n",
    "    pred_train = []\n",
    "    pred_test = []\n",
    "    for train_index, test_index in kf.split(X_all):\n",
    "        X_train, X_test = X_all[train_index], X_all[test_index]\n",
    "        y_train, y_test = y_all[train_index], y_all[test_index]\n",
    "        estimator.fit(X_train, y_train)\n",
    "        \n",
    "        pred = method_to_call(X)\n",
    "        pred_train.append(pred)\n",
    "    \n",
    "        pred = method_to_call(Xt)\n",
    "        pred_test.append(pred)\n",
    "        \n",
    "    result_train = np.mean(np.array(pred_train), axis = 0)\n",
    "    result_test = np.mean(np.array(pred_test), axis = 0)\n",
    "    \n",
    "    return result_train.astype(int), result_test.astype(int)"
   ]
  },
  {
   "cell_type": "markdown",
   "metadata": {},
   "source": [
    "Получилось точнее, чем обучать только на половине тестовых данных"
   ]
  },
  {
   "cell_type": "code",
   "execution_count": 89,
   "metadata": {},
   "outputs": [
    {
     "name": "stdout",
     "output_type": "stream",
     "text": [
      "0.994438264739\n",
      "0.993318485523\n"
     ]
    }
   ],
   "source": [
    "sX, sXt = stack_pred(classifier, X_all[:l/2], y_all[:l/2], X_all[l/2:], 6)\n",
    "\n",
    "l = len(X_all)\n",
    "print accuracy_score(y_all[l/2:], sXt)\n",
    "print accuracy_score(y_all[:l/2], sX)"
   ]
  },
  {
   "cell_type": "code",
   "execution_count": null,
   "metadata": {
    "collapsed": true
   },
   "outputs": [],
   "source": []
  }
 ],
 "metadata": {
  "kernelspec": {
   "display_name": "Python 2",
   "language": "python",
   "name": "python2"
  },
  "language_info": {
   "codemirror_mode": {
    "name": "ipython",
    "version": 2
   },
   "file_extension": ".py",
   "mimetype": "text/x-python",
   "name": "python",
   "nbconvert_exporter": "python",
   "pygments_lexer": "ipython2",
   "version": "2.7.13"
  }
 },
 "nbformat": 4,
 "nbformat_minor": 2
}
